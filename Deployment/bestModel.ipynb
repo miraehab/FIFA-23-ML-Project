{
 "cells": [
  {
   "cell_type": "markdown",
   "id": "3857416b",
   "metadata": {
    "papermill": {
     "duration": 0.049701,
     "end_time": "2022-11-06T21:26:53.203016",
     "exception": false,
     "start_time": "2022-11-06T21:26:53.153315",
     "status": "completed"
    },
    "tags": []
   },
   "source": [
    "<h1>FIFA 23 ML Project  <img src=\"https://img.icons8.com/color/48/null/football-team.png\"/></h1>"
   ]
  },
  {
   "cell_type": "code",
   "execution_count": 1,
   "id": "61247d6f",
   "metadata": {
    "execution": {
     "iopub.execute_input": "2022-11-06T21:26:53.296994Z",
     "iopub.status.busy": "2022-11-06T21:26:53.296350Z",
     "iopub.status.idle": "2022-11-06T21:26:54.349459Z",
     "shell.execute_reply": "2022-11-06T21:26:54.348536Z"
    },
    "papermill": {
     "duration": 1.104226,
     "end_time": "2022-11-06T21:26:54.352760",
     "exception": false,
     "start_time": "2022-11-06T21:26:53.248534",
     "status": "completed"
    },
    "tags": []
   },
   "outputs": [],
   "source": [
    "import pandas as pd \n",
    "import numpy as np\n",
    "import seaborn as sns\n",
    "import matplotlib.pyplot as plt"
   ]
  },
  {
   "cell_type": "code",
   "execution_count": 2,
   "id": "8fd57f6f",
   "metadata": {
    "execution": {
     "iopub.execute_input": "2022-11-06T21:26:54.446466Z",
     "iopub.status.busy": "2022-11-06T21:26:54.445772Z",
     "iopub.status.idle": "2022-11-06T21:26:54.449988Z",
     "shell.execute_reply": "2022-11-06T21:26:54.449201Z"
    },
    "papermill": {
     "duration": 0.053107,
     "end_time": "2022-11-06T21:26:54.452142",
     "exception": false,
     "start_time": "2022-11-06T21:26:54.399035",
     "status": "completed"
    },
    "tags": []
   },
   "outputs": [],
   "source": [
    "import warnings\n",
    "warnings.filterwarnings('ignore')"
   ]
  },
  {
   "cell_type": "code",
   "execution_count": 3,
   "id": "eb3b7b78",
   "metadata": {
    "execution": {
     "iopub.execute_input": "2022-11-06T21:26:54.545501Z",
     "iopub.status.busy": "2022-11-06T21:26:54.544349Z",
     "iopub.status.idle": "2022-11-06T21:26:54.924257Z",
     "shell.execute_reply": "2022-11-06T21:26:54.921741Z"
    },
    "papermill": {
     "duration": 0.431015,
     "end_time": "2022-11-06T21:26:54.928118",
     "exception": false,
     "start_time": "2022-11-06T21:26:54.497103",
     "status": "completed"
    },
    "tags": []
   },
   "outputs": [
    {
     "data": {
      "text/html": [
       "<div>\n",
       "<style scoped>\n",
       "    .dataframe tbody tr th:only-of-type {\n",
       "        vertical-align: middle;\n",
       "    }\n",
       "\n",
       "    .dataframe tbody tr th {\n",
       "        vertical-align: top;\n",
       "    }\n",
       "\n",
       "    .dataframe thead th {\n",
       "        text-align: right;\n",
       "    }\n",
       "</style>\n",
       "<table border=\"1\" class=\"dataframe\">\n",
       "  <thead>\n",
       "    <tr style=\"text-align: right;\">\n",
       "      <th></th>\n",
       "      <th>ID</th>\n",
       "      <th>Name</th>\n",
       "      <th>FullName</th>\n",
       "      <th>Age</th>\n",
       "      <th>Height</th>\n",
       "      <th>Weight</th>\n",
       "      <th>PhotoUrl</th>\n",
       "      <th>Nationality</th>\n",
       "      <th>Overall</th>\n",
       "      <th>Potential</th>\n",
       "      <th>...</th>\n",
       "      <th>LMRating</th>\n",
       "      <th>CMRating</th>\n",
       "      <th>RMRating</th>\n",
       "      <th>LWBRating</th>\n",
       "      <th>CDMRating</th>\n",
       "      <th>RWBRating</th>\n",
       "      <th>LBRating</th>\n",
       "      <th>CBRating</th>\n",
       "      <th>RBRating</th>\n",
       "      <th>GKRating</th>\n",
       "    </tr>\n",
       "  </thead>\n",
       "  <tbody>\n",
       "    <tr>\n",
       "      <th>0</th>\n",
       "      <td>158023</td>\n",
       "      <td>L. Messi</td>\n",
       "      <td>Lionel Messi</td>\n",
       "      <td>35</td>\n",
       "      <td>169</td>\n",
       "      <td>67</td>\n",
       "      <td>https://cdn.sofifa.net/players/158/023/23_60.png</td>\n",
       "      <td>Argentina</td>\n",
       "      <td>91</td>\n",
       "      <td>91</td>\n",
       "      <td>...</td>\n",
       "      <td>91</td>\n",
       "      <td>88</td>\n",
       "      <td>91</td>\n",
       "      <td>67</td>\n",
       "      <td>66</td>\n",
       "      <td>67</td>\n",
       "      <td>62</td>\n",
       "      <td>53</td>\n",
       "      <td>62</td>\n",
       "      <td>22</td>\n",
       "    </tr>\n",
       "    <tr>\n",
       "      <th>1</th>\n",
       "      <td>165153</td>\n",
       "      <td>K. Benzema</td>\n",
       "      <td>Karim Benzema</td>\n",
       "      <td>34</td>\n",
       "      <td>185</td>\n",
       "      <td>81</td>\n",
       "      <td>https://cdn.sofifa.net/players/165/153/23_60.png</td>\n",
       "      <td>France</td>\n",
       "      <td>91</td>\n",
       "      <td>91</td>\n",
       "      <td>...</td>\n",
       "      <td>89</td>\n",
       "      <td>84</td>\n",
       "      <td>89</td>\n",
       "      <td>67</td>\n",
       "      <td>67</td>\n",
       "      <td>67</td>\n",
       "      <td>63</td>\n",
       "      <td>58</td>\n",
       "      <td>63</td>\n",
       "      <td>21</td>\n",
       "    </tr>\n",
       "    <tr>\n",
       "      <th>2</th>\n",
       "      <td>188545</td>\n",
       "      <td>R. Lewandowski</td>\n",
       "      <td>Robert Lewandowski</td>\n",
       "      <td>33</td>\n",
       "      <td>185</td>\n",
       "      <td>81</td>\n",
       "      <td>https://cdn.sofifa.net/players/188/545/23_60.png</td>\n",
       "      <td>Poland</td>\n",
       "      <td>91</td>\n",
       "      <td>91</td>\n",
       "      <td>...</td>\n",
       "      <td>86</td>\n",
       "      <td>83</td>\n",
       "      <td>86</td>\n",
       "      <td>67</td>\n",
       "      <td>69</td>\n",
       "      <td>67</td>\n",
       "      <td>64</td>\n",
       "      <td>63</td>\n",
       "      <td>64</td>\n",
       "      <td>22</td>\n",
       "    </tr>\n",
       "    <tr>\n",
       "      <th>3</th>\n",
       "      <td>192985</td>\n",
       "      <td>K. De Bruyne</td>\n",
       "      <td>Kevin De Bruyne</td>\n",
       "      <td>31</td>\n",
       "      <td>181</td>\n",
       "      <td>70</td>\n",
       "      <td>https://cdn.sofifa.net/players/192/985/23_60.png</td>\n",
       "      <td>Belgium</td>\n",
       "      <td>91</td>\n",
       "      <td>91</td>\n",
       "      <td>...</td>\n",
       "      <td>91</td>\n",
       "      <td>91</td>\n",
       "      <td>91</td>\n",
       "      <td>82</td>\n",
       "      <td>82</td>\n",
       "      <td>82</td>\n",
       "      <td>78</td>\n",
       "      <td>72</td>\n",
       "      <td>78</td>\n",
       "      <td>24</td>\n",
       "    </tr>\n",
       "    <tr>\n",
       "      <th>4</th>\n",
       "      <td>231747</td>\n",
       "      <td>K. Mbappé</td>\n",
       "      <td>Kylian Mbappé</td>\n",
       "      <td>23</td>\n",
       "      <td>182</td>\n",
       "      <td>73</td>\n",
       "      <td>https://cdn.sofifa.net/players/231/747/23_60.png</td>\n",
       "      <td>France</td>\n",
       "      <td>91</td>\n",
       "      <td>95</td>\n",
       "      <td>...</td>\n",
       "      <td>92</td>\n",
       "      <td>84</td>\n",
       "      <td>92</td>\n",
       "      <td>70</td>\n",
       "      <td>66</td>\n",
       "      <td>70</td>\n",
       "      <td>66</td>\n",
       "      <td>57</td>\n",
       "      <td>66</td>\n",
       "      <td>21</td>\n",
       "    </tr>\n",
       "  </tbody>\n",
       "</table>\n",
       "<p>5 rows × 90 columns</p>\n",
       "</div>"
      ],
      "text/plain": [
       "       ID            Name            FullName  Age  Height  Weight  \\\n",
       "0  158023        L. Messi        Lionel Messi   35     169      67   \n",
       "1  165153      K. Benzema       Karim Benzema   34     185      81   \n",
       "2  188545  R. Lewandowski  Robert Lewandowski   33     185      81   \n",
       "3  192985    K. De Bruyne     Kevin De Bruyne   31     181      70   \n",
       "4  231747       K. Mbappé       Kylian Mbappé   23     182      73   \n",
       "\n",
       "                                           PhotoUrl Nationality  Overall  \\\n",
       "0  https://cdn.sofifa.net/players/158/023/23_60.png   Argentina       91   \n",
       "1  https://cdn.sofifa.net/players/165/153/23_60.png      France       91   \n",
       "2  https://cdn.sofifa.net/players/188/545/23_60.png      Poland       91   \n",
       "3  https://cdn.sofifa.net/players/192/985/23_60.png     Belgium       91   \n",
       "4  https://cdn.sofifa.net/players/231/747/23_60.png      France       91   \n",
       "\n",
       "   Potential  ...  LMRating  CMRating  RMRating LWBRating CDMRating RWBRating  \\\n",
       "0         91  ...        91        88        91        67        66        67   \n",
       "1         91  ...        89        84        89        67        67        67   \n",
       "2         91  ...        86        83        86        67        69        67   \n",
       "3         91  ...        91        91        91        82        82        82   \n",
       "4         95  ...        92        84        92        70        66        70   \n",
       "\n",
       "   LBRating  CBRating  RBRating GKRating  \n",
       "0        62        53        62       22  \n",
       "1        63        58        63       21  \n",
       "2        64        63        64       22  \n",
       "3        78        72        78       24  \n",
       "4        66        57        66       21  \n",
       "\n",
       "[5 rows x 90 columns]"
      ]
     },
     "execution_count": 3,
     "metadata": {},
     "output_type": "execute_result"
    }
   ],
   "source": [
    "data = pd.read_csv(\"../players_fifa23.csv\")\n",
    "data.head()"
   ]
  },
  {
   "cell_type": "code",
   "execution_count": 4,
   "id": "13e58ce9",
   "metadata": {
    "execution": {
     "iopub.execute_input": "2022-11-06T21:26:55.031319Z",
     "iopub.status.busy": "2022-11-06T21:26:55.030267Z",
     "iopub.status.idle": "2022-11-06T21:26:55.037507Z",
     "shell.execute_reply": "2022-11-06T21:26:55.036546Z"
    },
    "papermill": {
     "duration": 0.056649,
     "end_time": "2022-11-06T21:26:55.039539",
     "exception": false,
     "start_time": "2022-11-06T21:26:54.982890",
     "status": "completed"
    },
    "tags": []
   },
   "outputs": [
    {
     "data": {
      "text/plain": [
       "(18539, 90)"
      ]
     },
     "execution_count": 4,
     "metadata": {},
     "output_type": "execute_result"
    }
   ],
   "source": [
    "data.shape"
   ]
  },
  {
   "cell_type": "code",
   "execution_count": 5,
   "id": "de1b5334",
   "metadata": {
    "execution": {
     "iopub.execute_input": "2022-11-06T21:26:55.133419Z",
     "iopub.status.busy": "2022-11-06T21:26:55.132792Z",
     "iopub.status.idle": "2022-11-06T21:26:55.150808Z",
     "shell.execute_reply": "2022-11-06T21:26:55.149728Z"
    },
    "papermill": {
     "duration": 0.067812,
     "end_time": "2022-11-06T21:26:55.153225",
     "exception": false,
     "start_time": "2022-11-06T21:26:55.085413",
     "status": "completed"
    },
    "tags": []
   },
   "outputs": [],
   "source": [
    "needed_columns = ['ID', 'Name', 'Age', 'Height', 'Weight',\n",
    "       'Overall', 'Potential', 'Growth', 'TotalStats',\n",
    "       'BaseStats', 'BestPosition', 'Club', 'ValueEUR', 'WageEUR',\n",
    "       'ReleaseClause', 'ContractUntil', 'ClubJoined', 'OnLoad',\n",
    "       'PreferredFoot', 'IntReputation', 'WeakFoot','Nationality',\n",
    "       'SkillMoves', 'AttackingWorkRate', 'DefensiveWorkRate', 'PaceTotal',\n",
    "       'ShootingTotal', 'PassingTotal', 'DribblingTotal', 'DefendingTotal',\n",
    "       'PhysicalityTotal', 'Crossing', 'Finishing', 'HeadingAccuracy',\n",
    "       'ShortPassing', 'Volleys', 'Dribbling', 'Curve', 'FKAccuracy',\n",
    "       'LongPassing', 'BallControl', 'Acceleration', 'SprintSpeed', 'Agility',\n",
    "       'Reactions', 'Balance', 'ShotPower', 'Jumping', 'Stamina', 'Strength',\n",
    "       'LongShots', 'Aggression', 'Interceptions', 'Positioning', 'Vision',\n",
    "       'Penalties', 'Composure', 'Marking', 'StandingTackle', 'SlidingTackle',\n",
    "       'GKDiving', 'GKHandling', 'GKKicking', 'GKPositioning', 'GKReflexes']\n",
    "\n",
    "\n",
    "data = data[needed_columns]"
   ]
  },
  {
   "cell_type": "markdown",
   "id": "e7a65ccd",
   "metadata": {
    "papermill": {
     "duration": 0.053522,
     "end_time": "2022-11-06T21:27:09.123523",
     "exception": false,
     "start_time": "2022-11-06T21:27:09.070001",
     "status": "completed"
    },
    "tags": []
   },
   "source": [
    "# Data Preprocessing:"
   ]
  },
  {
   "cell_type": "markdown",
   "id": "307ea3fd",
   "metadata": {
    "papermill": {
     "duration": 0.053425,
     "end_time": "2022-11-06T21:27:09.230932",
     "exception": false,
     "start_time": "2022-11-06T21:27:09.177507",
     "status": "completed"
    },
    "tags": []
   },
   "source": [
    "<h3>1. Handle the missing values:</h3>"
   ]
  },
  {
   "cell_type": "code",
   "execution_count": 6,
   "id": "5d61fe97",
   "metadata": {
    "execution": {
     "iopub.execute_input": "2022-11-06T21:27:09.341857Z",
     "iopub.status.busy": "2022-11-06T21:27:09.340853Z",
     "iopub.status.idle": "2022-11-06T21:27:09.506661Z",
     "shell.execute_reply": "2022-11-06T21:27:09.505345Z"
    },
    "papermill": {
     "duration": 0.224168,
     "end_time": "2022-11-06T21:27:09.509397",
     "exception": false,
     "start_time": "2022-11-06T21:27:09.285229",
     "status": "completed"
    },
    "tags": []
   },
   "outputs": [
    {
     "name": "stdout",
     "output_type": "stream",
     "text": [
      "ContractUntil   92\n"
     ]
    }
   ],
   "source": [
    "for i in data.columns:\n",
    "    if data[i].isnull().sum() > 0:\n",
    "        print(i, \" \", data[i].isnull().sum())"
   ]
  },
  {
   "cell_type": "markdown",
   "id": "930b1ce7",
   "metadata": {
    "papermill": {
     "duration": 0.053625,
     "end_time": "2022-11-06T21:27:09.617101",
     "exception": false,
     "start_time": "2022-11-06T21:27:09.563476",
     "status": "completed"
    },
    "tags": []
   },
   "source": [
    "<h4>ContractUntil Column:</h4>"
   ]
  },
  {
   "cell_type": "code",
   "execution_count": 7,
   "id": "69edfec9",
   "metadata": {
    "execution": {
     "iopub.execute_input": "2022-11-06T21:27:09.726079Z",
     "iopub.status.busy": "2022-11-06T21:27:09.725691Z",
     "iopub.status.idle": "2022-11-06T21:27:09.733019Z",
     "shell.execute_reply": "2022-11-06T21:27:09.731577Z"
    },
    "papermill": {
     "duration": 0.064693,
     "end_time": "2022-11-06T21:27:09.735270",
     "exception": false,
     "start_time": "2022-11-06T21:27:09.670577",
     "status": "completed"
    },
    "tags": []
   },
   "outputs": [
    {
     "name": "stdout",
     "output_type": "stream",
     "text": [
      "The percentage of the null values is:  0.49625114623226707 %\n"
     ]
    }
   ],
   "source": [
    "print(\"The percentage of the null values is: \", (data[\"ContractUntil\"].isnull().sum()/data.shape[0])*100, \"%\")"
   ]
  },
  {
   "cell_type": "markdown",
   "id": "6f13d253",
   "metadata": {
    "papermill": {
     "duration": 0.05371,
     "end_time": "2022-11-06T21:27:09.842877",
     "exception": false,
     "start_time": "2022-11-06T21:27:09.789167",
     "status": "completed"
    },
    "tags": []
   },
   "source": [
    "As the percentage of nulls is small so we can drop the values of nulls in that column."
   ]
  },
  {
   "cell_type": "code",
   "execution_count": 8,
   "id": "fe652511",
   "metadata": {
    "execution": {
     "iopub.execute_input": "2022-11-06T21:27:09.953588Z",
     "iopub.status.busy": "2022-11-06T21:27:09.953169Z",
     "iopub.status.idle": "2022-11-06T21:27:09.968997Z",
     "shell.execute_reply": "2022-11-06T21:27:09.967911Z"
    },
    "papermill": {
     "duration": 0.074458,
     "end_time": "2022-11-06T21:27:09.971465",
     "exception": false,
     "start_time": "2022-11-06T21:27:09.897007",
     "status": "completed"
    },
    "tags": []
   },
   "outputs": [],
   "source": [
    "data.drop(data[data[\"ContractUntil\"].isnull()].index, axis = 0, inplace =True)"
   ]
  },
  {
   "cell_type": "code",
   "execution_count": 9,
   "id": "08fd83bf",
   "metadata": {
    "execution": {
     "iopub.execute_input": "2022-11-06T21:27:10.081483Z",
     "iopub.status.busy": "2022-11-06T21:27:10.081036Z",
     "iopub.status.idle": "2022-11-06T21:27:10.088669Z",
     "shell.execute_reply": "2022-11-06T21:27:10.087574Z"
    },
    "papermill": {
     "duration": 0.065254,
     "end_time": "2022-11-06T21:27:10.090920",
     "exception": false,
     "start_time": "2022-11-06T21:27:10.025666",
     "status": "completed"
    },
    "tags": []
   },
   "outputs": [
    {
     "data": {
      "text/plain": [
       "0"
      ]
     },
     "execution_count": 9,
     "metadata": {},
     "output_type": "execute_result"
    }
   ],
   "source": [
    "data[\"ContractUntil\"].isnull().sum()"
   ]
  },
  {
   "cell_type": "markdown",
   "id": "36aea380",
   "metadata": {
    "papermill": {
     "duration": 0.054229,
     "end_time": "2022-11-06T21:27:10.199445",
     "exception": false,
     "start_time": "2022-11-06T21:27:10.145216",
     "status": "completed"
    },
    "tags": []
   },
   "source": [
    "<h3>2. Handle The Categorical Columns:</h3>"
   ]
  },
  {
   "cell_type": "code",
   "execution_count": 10,
   "id": "7f646050",
   "metadata": {
    "execution": {
     "iopub.execute_input": "2022-11-06T21:27:10.309528Z",
     "iopub.status.busy": "2022-11-06T21:27:10.308868Z",
     "iopub.status.idle": "2022-11-06T21:27:10.318443Z",
     "shell.execute_reply": "2022-11-06T21:27:10.316821Z"
    },
    "papermill": {
     "duration": 0.067884,
     "end_time": "2022-11-06T21:27:10.321126",
     "exception": false,
     "start_time": "2022-11-06T21:27:10.253242",
     "status": "completed"
    },
    "tags": []
   },
   "outputs": [
    {
     "name": "stdout",
     "output_type": "stream",
     "text": [
      "Name\n",
      "BestPosition\n",
      "Club\n",
      "PreferredFoot\n",
      "Nationality\n",
      "AttackingWorkRate\n",
      "DefensiveWorkRate\n"
     ]
    }
   ],
   "source": [
    "for i in data.columns:\n",
    "    if data[i].dtype == 'object':\n",
    "        print(i)"
   ]
  },
  {
   "cell_type": "code",
   "execution_count": 11,
   "id": "206bfe23",
   "metadata": {
    "execution": {
     "iopub.execute_input": "2022-11-06T21:27:10.431576Z",
     "iopub.status.busy": "2022-11-06T21:27:10.431184Z",
     "iopub.status.idle": "2022-11-06T21:27:10.584760Z",
     "shell.execute_reply": "2022-11-06T21:27:10.583732Z"
    },
    "papermill": {
     "duration": 0.211433,
     "end_time": "2022-11-06T21:27:10.587342",
     "exception": false,
     "start_time": "2022-11-06T21:27:10.375909",
     "status": "completed"
    },
    "tags": []
   },
   "outputs": [],
   "source": [
    "from sklearn.preprocessing import LabelEncoder\n",
    "\n",
    "le = LabelEncoder()\n",
    "\n",
    "data[\"PreferredFoot\"] = le.fit_transform(data[\"PreferredFoot\"])\n",
    "data[\"AttackingWorkRate\"] = le.fit_transform(data[\"AttackingWorkRate\"])\n",
    "data[\"DefensiveWorkRate\"] = le.fit_transform(data[\"DefensiveWorkRate\"])\n",
    "data[\"Club\"] = le.fit_transform(data[\"Club\"])\n"
   ]
  },
  {
   "cell_type": "markdown",
   "id": "f7f62640",
   "metadata": {
    "papermill": {
     "duration": 0.05358,
     "end_time": "2022-11-06T21:27:10.695272",
     "exception": false,
     "start_time": "2022-11-06T21:27:10.641692",
     "status": "completed"
    },
    "tags": []
   },
   "source": [
    "<h3>Merge Some Players Positions to reduce the number of classes:</h3>"
   ]
  },
  {
   "cell_type": "code",
   "execution_count": 12,
   "id": "b43be99b",
   "metadata": {
    "execution": {
     "iopub.execute_input": "2022-11-06T21:27:10.807541Z",
     "iopub.status.busy": "2022-11-06T21:27:10.806651Z",
     "iopub.status.idle": "2022-11-06T21:27:10.831066Z",
     "shell.execute_reply": "2022-11-06T21:27:10.830126Z"
    },
    "papermill": {
     "duration": 0.084067,
     "end_time": "2022-11-06T21:27:10.833785",
     "exception": false,
     "start_time": "2022-11-06T21:27:10.749718",
     "status": "completed"
    },
    "tags": []
   },
   "outputs": [],
   "source": [
    "merge_pos = {'LWB' : 'LW', 'RWB': 'RW', 'ST': 'CF', 'CAM': 'CM', 'CDM': 'CM'}\n",
    "\n",
    "data = data.replace({'BestPosition': merge_pos})"
   ]
  },
  {
   "cell_type": "code",
   "execution_count": 13,
   "id": "7ea10e5e",
   "metadata": {
    "execution": {
     "iopub.execute_input": "2022-11-06T21:27:10.944217Z",
     "iopub.status.busy": "2022-11-06T21:27:10.943764Z",
     "iopub.status.idle": "2022-11-06T21:27:10.966712Z",
     "shell.execute_reply": "2022-11-06T21:27:10.965477Z"
    },
    "papermill": {
     "duration": 0.081587,
     "end_time": "2022-11-06T21:27:10.969465",
     "exception": false,
     "start_time": "2022-11-06T21:27:10.887878",
     "status": "completed"
    },
    "tags": []
   },
   "outputs": [],
   "source": [
    "mapping = {'CF': 0, 'CM': 1, 'RW': 2, 'GK': 3, 'CB': 4, 'LW': 5, 'LM': 6, 'LB': 7,'RM': 8, 'RB': 9}\n",
    "\n",
    "data = data.replace({'BestPosition': mapping})"
   ]
  },
  {
   "cell_type": "markdown",
   "id": "7bc5648b",
   "metadata": {
    "papermill": {
     "duration": 0.054228,
     "end_time": "2022-11-06T21:27:11.078987",
     "exception": false,
     "start_time": "2022-11-06T21:27:11.024759",
     "status": "completed"
    },
    "tags": []
   },
   "source": [
    "<h2>Split the Data to Train and Test sets:</h2>"
   ]
  },
  {
   "cell_type": "code",
   "execution_count": 14,
   "id": "6aca54f3",
   "metadata": {
    "execution": {
     "iopub.execute_input": "2022-11-06T21:27:11.190674Z",
     "iopub.status.busy": "2022-11-06T21:27:11.190261Z",
     "iopub.status.idle": "2022-11-06T21:27:11.213477Z",
     "shell.execute_reply": "2022-11-06T21:27:11.212342Z"
    },
    "papermill": {
     "duration": 0.082129,
     "end_time": "2022-11-06T21:27:11.216015",
     "exception": false,
     "start_time": "2022-11-06T21:27:11.133886",
     "status": "completed"
    },
    "tags": []
   },
   "outputs": [],
   "source": [
    "X = data.drop([\"BestPosition\", \"Nationality\", \"ID\"], axis = 1)\n",
    "Y = pd.DataFrame(data[\"BestPosition\"])\n",
    "\n",
    "top = data.sort_values(by=[\"Overall\"], ascending=False).head(20)"
   ]
  },
  {
   "cell_type": "code",
   "execution_count": 15,
   "id": "8c07dcb9",
   "metadata": {
    "execution": {
     "iopub.execute_input": "2022-11-06T21:27:11.327668Z",
     "iopub.status.busy": "2022-11-06T21:27:11.327235Z",
     "iopub.status.idle": "2022-11-06T21:27:11.391477Z",
     "shell.execute_reply": "2022-11-06T21:27:11.390326Z"
    },
    "papermill": {
     "duration": 0.123367,
     "end_time": "2022-11-06T21:27:11.394118",
     "exception": false,
     "start_time": "2022-11-06T21:27:11.270751",
     "status": "completed"
    },
    "tags": []
   },
   "outputs": [],
   "source": [
    "from sklearn.model_selection import train_test_split\n",
    "X_Train, X_Test, Y_Train, Y_Test = train_test_split(X, Y, test_size=0.20, random_state=42)"
   ]
  },
  {
   "cell_type": "code",
   "execution_count": 16,
   "id": "70cecf73",
   "metadata": {
    "execution": {
     "iopub.execute_input": "2022-11-06T21:27:11.506474Z",
     "iopub.status.busy": "2022-11-06T21:27:11.505750Z",
     "iopub.status.idle": "2022-11-06T21:27:11.517683Z",
     "shell.execute_reply": "2022-11-06T21:27:11.516556Z"
    },
    "papermill": {
     "duration": 0.071521,
     "end_time": "2022-11-06T21:27:11.519959",
     "exception": false,
     "start_time": "2022-11-06T21:27:11.448438",
     "status": "completed"
    },
    "tags": []
   },
   "outputs": [],
   "source": [
    "X_Train = X_Train.drop([\"Name\"], axis = 1)\n",
    "test_names = X_Test[\"Name\"]\n",
    "X_Test = X_Test.drop([\"Name\"], axis = 1)\n",
    "\n",
    "top_pos = top[\"BestPosition\"]\n",
    "top_names = top[\"Name\"]\n",
    "top = top.drop([\"Name\", \"BestPosition\", \"Nationality\", \"ID\"], axis = 1)"
   ]
  },
  {
   "cell_type": "markdown",
   "id": "8338a807",
   "metadata": {
    "papermill": {
     "duration": 0.053598,
     "end_time": "2022-11-06T21:27:11.628129",
     "exception": false,
     "start_time": "2022-11-06T21:27:11.574531",
     "status": "completed"
    },
    "tags": []
   },
   "source": [
    "<h3>3. Handle the Imbalanced Data:</h3>"
   ]
  },
  {
   "cell_type": "code",
   "execution_count": 17,
   "id": "e15ab28c",
   "metadata": {
    "execution": {
     "iopub.execute_input": "2022-11-06T21:27:11.740180Z",
     "iopub.status.busy": "2022-11-06T21:27:11.739794Z",
     "iopub.status.idle": "2022-11-06T21:27:11.992951Z",
     "shell.execute_reply": "2022-11-06T21:27:11.991863Z"
    },
    "papermill": {
     "duration": 0.31219,
     "end_time": "2022-11-06T21:27:11.995355",
     "exception": false,
     "start_time": "2022-11-06T21:27:11.683165",
     "status": "completed"
    },
    "tags": []
   },
   "outputs": [
    {
     "data": {
      "text/plain": [
       "<AxesSubplot:xlabel='BestPosition', ylabel='count'>"
      ]
     },
     "execution_count": 17,
     "metadata": {},
     "output_type": "execute_result"
    },
    {
     "data": {
      "image/png": "[encoded data removed]",
      "text/plain": [
       "<Figure size 432x288 with 1 Axes>"
      ]
     },
     "metadata": {
      "needs_background": "light"
     },
     "output_type": "display_data"
    }
   ],
   "source": [
    "sns.countplot(x=\"BestPosition\", data = Y_Train)"
   ]
  },
  {
   "cell_type": "code",
   "execution_count": 18,
   "id": "06b5d306",
   "metadata": {
    "execution": {
     "iopub.execute_input": "2022-11-06T21:27:12.106996Z",
     "iopub.status.busy": "2022-11-06T21:27:12.106573Z",
     "iopub.status.idle": "2022-11-06T21:27:13.417915Z",
     "shell.execute_reply": "2022-11-06T21:27:13.416923Z"
    },
    "papermill": {
     "duration": 1.370863,
     "end_time": "2022-11-06T21:27:13.420613",
     "exception": false,
     "start_time": "2022-11-06T21:27:12.049750",
     "status": "completed"
    },
    "tags": []
   },
   "outputs": [],
   "source": [
    "from imblearn.over_sampling import SMOTE \n",
    "from imblearn.over_sampling  import RandomOverSampler\n",
    "\n",
    "oversample = RandomOverSampler(sampling_strategy='minority')\n",
    "# fit and apply the transform\n",
    "X_Train, Y_Train = oversample.fit_resample(X_Train, Y_Train)\n",
    "X_Train, Y_Train = oversample.fit_resample(X_Train, Y_Train)\n",
    "X_Train, Y_Train = oversample.fit_resample(X_Train, Y_Train)\n",
    "X_Train, Y_Train = oversample.fit_resample(X_Train, Y_Train)"
   ]
  },
  {
   "cell_type": "code",
   "execution_count": 19,
   "id": "f37c5640",
   "metadata": {
    "execution": {
     "iopub.execute_input": "2022-11-06T21:27:13.532711Z",
     "iopub.status.busy": "2022-11-06T21:27:13.532293Z",
     "iopub.status.idle": "2022-11-06T21:27:13.537726Z",
     "shell.execute_reply": "2022-11-06T21:27:13.536652Z"
    },
    "papermill": {
     "duration": 0.064389,
     "end_time": "2022-11-06T21:27:13.539988",
     "exception": false,
     "start_time": "2022-11-06T21:27:13.475599",
     "status": "completed"
    },
    "tags": []
   },
   "outputs": [
    {
     "name": "stdout",
     "output_type": "stream",
     "text": [
      " X_shape: (27732, 61) \n",
      " y_shape: (27732, 1)\n"
     ]
    }
   ],
   "source": [
    "print(f' X_shape: {X_Train.shape} \\n y_shape: {Y_Train.shape}')"
   ]
  },
  {
   "cell_type": "code",
   "execution_count": 20,
   "id": "57587a26",
   "metadata": {
    "execution": {
     "iopub.execute_input": "2022-11-06T21:27:13.652350Z",
     "iopub.status.busy": "2022-11-06T21:27:13.651929Z",
     "iopub.status.idle": "2022-11-06T21:27:13.899385Z",
     "shell.execute_reply": "2022-11-06T21:27:13.898152Z"
    },
    "papermill": {
     "duration": 0.306554,
     "end_time": "2022-11-06T21:27:13.901868",
     "exception": false,
     "start_time": "2022-11-06T21:27:13.595314",
     "status": "completed"
    },
    "tags": []
   },
   "outputs": [
    {
     "data": {
      "text/plain": [
       "<AxesSubplot:xlabel='BestPosition', ylabel='count'>"
      ]
     },
     "execution_count": 20,
     "metadata": {},
     "output_type": "execute_result"
    },
    {
     "data": {
      "image/png": "[encoded data removed]",
      "text/plain": [
       "<Figure size 432x288 with 1 Axes>"
      ]
     },
     "metadata": {
      "needs_background": "light"
     },
     "output_type": "display_data"
    }
   ],
   "source": [
    "sns.countplot(x=\"BestPosition\", data = Y_Train)"
   ]
  },
  {
   "cell_type": "markdown",
   "id": "db74b66a",
   "metadata": {
    "papermill": {
     "duration": 0.055009,
     "end_time": "2022-11-06T21:27:14.013505",
     "exception": false,
     "start_time": "2022-11-06T21:27:13.958496",
     "status": "completed"
    },
    "tags": []
   },
   "source": [
    "<h3>4. Feature Scaling:</h3>"
   ]
  },
  {
   "cell_type": "code",
   "execution_count": 21,
   "id": "5feca944",
   "metadata": {
    "execution": {
     "iopub.execute_input": "2022-11-06T21:27:14.126732Z",
     "iopub.status.busy": "2022-11-06T21:27:14.126302Z",
     "iopub.status.idle": "2022-11-06T21:27:14.493032Z",
     "shell.execute_reply": "2022-11-06T21:27:14.491795Z"
    },
    "papermill": {
     "duration": 0.42653,
     "end_time": "2022-11-06T21:27:14.495860",
     "exception": false,
     "start_time": "2022-11-06T21:27:14.069330",
     "status": "completed"
    },
    "tags": []
   },
   "outputs": [],
   "source": [
    "from sklearn.preprocessing import MinMaxScaler\n",
    "\n",
    "mms = MinMaxScaler()\n",
    "\n",
    "X_Train = mms.fit_transform(X_Train)\n",
    "X_Test = mms.fit_transform(X_Test)\n",
    "\n",
    "top = mms.fit_transform(top)"
   ]
  },
  {
   "cell_type": "markdown",
   "id": "fb100fd8",
   "metadata": {
    "papermill": {
     "duration": 0.055075,
     "end_time": "2022-11-06T21:27:14.606350",
     "exception": false,
     "start_time": "2022-11-06T21:27:14.551275",
     "status": "completed"
    },
    "tags": []
   },
   "source": [
    "# Modeling"
   ]
  },
  {
   "cell_type": "markdown",
   "id": "fff6f8ba",
   "metadata": {
    "papermill": {
     "duration": 0.05456,
     "end_time": "2022-11-06T21:27:14.716059",
     "exception": false,
     "start_time": "2022-11-06T21:27:14.661499",
     "status": "completed"
    },
    "tags": []
   },
   "source": [
    "## A. Predict the Position of the Player Using 8 Classification Algorithms:"
   ]
  },
  {
   "cell_type": "markdown",
   "id": "597d1dcb",
   "metadata": {
    "papermill": {
     "duration": 0.063085,
     "end_time": "2022-11-06T21:29:56.233853",
     "exception": false,
     "start_time": "2022-11-06T21:29:56.170768",
     "status": "completed"
    },
    "tags": []
   },
   "source": [
    "<h3>3. XGB:</h3>"
   ]
  },
  {
   "cell_type": "code",
   "execution_count": 22,
   "id": "bddec12b",
   "metadata": {
    "execution": {
     "iopub.execute_input": "2022-11-06T21:29:56.363860Z",
     "iopub.status.busy": "2022-11-06T21:29:56.363155Z",
     "iopub.status.idle": "2022-11-06T21:29:56.479101Z",
     "shell.execute_reply": "2022-11-06T21:29:56.477932Z"
    },
    "papermill": {
     "duration": 0.184577,
     "end_time": "2022-11-06T21:29:56.481892",
     "exception": false,
     "start_time": "2022-11-06T21:29:56.297315",
     "status": "completed"
    },
    "tags": []
   },
   "outputs": [],
   "source": [
    "from xgboost import XGBClassifier\n",
    "\n",
    "xgb = XGBClassifier()"
   ]
  },
  {
   "cell_type": "code",
   "execution_count": 23,
   "id": "800cd843",
   "metadata": {
    "execution": {
     "iopub.execute_input": "2022-11-06T21:29:56.610167Z",
     "iopub.status.busy": "2022-11-06T21:29:56.609759Z",
     "iopub.status.idle": "2022-11-06T21:30:33.686560Z",
     "shell.execute_reply": "2022-11-06T21:30:33.685401Z"
    },
    "papermill": {
     "duration": 37.208268,
     "end_time": "2022-11-06T21:30:33.753474",
     "exception": false,
     "start_time": "2022-11-06T21:29:56.545206",
     "status": "completed"
    },
    "tags": []
   },
   "outputs": [
    {
     "data": {
      "text/html": [
       "<style>#sk-container-id-1 {color: black;background-color: white;}#sk-container-id-1 pre{padding: 0;}#sk-container-id-1 div.sk-toggleable {background-color: white;}#sk-container-id-1 label.sk-toggleable__label {cursor: pointer;display: block;width: 100%;margin-bottom: 0;padding: 0.3em;box-sizing: border-box;text-align: center;}#sk-container-id-1 label.sk-toggleable__label-arrow:before {content: \"▸\";float: left;margin-right: 0.25em;color: #696969;}#sk-container-id-1 label.sk-toggleable__label-arrow:hover:before {color: black;}#sk-container-id-1 div.sk-estimator:hover label.sk-toggleable__label-arrow:before {color: black;}#sk-container-id-1 div.sk-toggleable__content {max-height: 0;max-width: 0;overflow: hidden;text-align: left;background-color: #f0f8ff;}#sk-container-id-1 div.sk-toggleable__content pre {margin: 0.2em;color: black;border-radius: 0.25em;background-color: #f0f8ff;}#sk-container-id-1 input.sk-toggleable__control:checked~div.sk-toggleable__content {max-height: 200px;max-width: 100%;overflow: auto;}#sk-container-id-1 input.sk-toggleable__control:checked~label.sk-toggleable__label-arrow:before {content: \"▾\";}#sk-container-id-1 div.sk-estimator input.sk-toggleable__control:checked~label.sk-toggleable__label {background-color: #d4ebff;}#sk-container-id-1 div.sk-label input.sk-toggleable__control:checked~label.sk-toggleable__label {background-color: #d4ebff;}#sk-container-id-1 input.sk-hidden--visually {border: 0;clip: rect(1px 1px 1px 1px);clip: rect(1px, 1px, 1px, 1px);height: 1px;margin: -1px;overflow: hidden;padding: 0;position: absolute;width: 1px;}#sk-container-id-1 div.sk-estimator {font-family: monospace;background-color: #f0f8ff;border: 1px dotted black;border-radius: 0.25em;box-sizing: border-box;margin-bottom: 0.5em;}#sk-container-id-1 div.sk-estimator:hover {background-color: #d4ebff;}#sk-container-id-1 div.sk-parallel-item::after {content: \"\";width: 100%;border-bottom: 1px solid gray;flex-grow: 1;}#sk-container-id-1 div.sk-label:hover label.sk-toggleable__label {background-color: #d4ebff;}#sk-container-id-1 div.sk-serial::before {content: \"\";position: absolute;border-left: 1px solid gray;box-sizing: border-box;top: 0;bottom: 0;left: 50%;z-index: 0;}#sk-container-id-1 div.sk-serial {display: flex;flex-direction: column;align-items: center;background-color: white;padding-right: 0.2em;padding-left: 0.2em;position: relative;}#sk-container-id-1 div.sk-item {position: relative;z-index: 1;}#sk-container-id-1 div.sk-parallel {display: flex;align-items: stretch;justify-content: center;background-color: white;position: relative;}#sk-container-id-1 div.sk-item::before, #sk-container-id-1 div.sk-parallel-item::before {content: \"\";position: absolute;border-left: 1px solid gray;box-sizing: border-box;top: 0;bottom: 0;left: 50%;z-index: -1;}#sk-container-id-1 div.sk-parallel-item {display: flex;flex-direction: column;z-index: 1;position: relative;background-color: white;}#sk-container-id-1 div.sk-parallel-item:first-child::after {align-self: flex-end;width: 50%;}#sk-container-id-1 div.sk-parallel-item:last-child::after {align-self: flex-start;width: 50%;}#sk-container-id-1 div.sk-parallel-item:only-child::after {width: 0;}#sk-container-id-1 div.sk-dashed-wrapped {border: 1px dashed gray;margin: 0 0.4em 0.5em 0.4em;box-sizing: border-box;padding-bottom: 0.4em;background-color: white;}#sk-container-id-1 div.sk-label label {font-family: monospace;font-weight: bold;display: inline-block;line-height: 1.2em;}#sk-container-id-1 div.sk-label-container {text-align: center;}#sk-container-id-1 div.sk-container {/* jupyter's `normalize.less` sets `[hidden] { display: none; }` but bootstrap.min.css set `[hidden] { display: none !important; }` so we also need the `!important` here to be able to override the default hidden behavior on the sphinx rendered scikit-learn.org. See: https://github.com/scikit-learn/scikit-learn/issues/21755 */display: inline-block !important;position: relative;}#sk-container-id-1 div.sk-text-repr-fallback {display: none;}</style><div id=\"sk-container-id-1\" class=\"sk-top-container\"><div class=\"sk-text-repr-fallback\"><pre>XGBClassifier(base_score=0.5, booster=&#x27;gbtree&#x27;, callbacks=None,\n",
       "              colsample_bylevel=1, colsample_bynode=1, colsample_bytree=1,\n",
       "              early_stopping_rounds=None, enable_categorical=False,\n",
       "              eval_metric=None, gamma=0, gpu_id=-1, grow_policy=&#x27;depthwise&#x27;,\n",
       "              importance_type=None, interaction_constraints=&#x27;&#x27;,\n",
       "              learning_rate=0.300000012, max_bin=256, max_cat_to_onehot=4,\n",
       "              max_delta_step=0, max_depth=6, max_leaves=0, min_child_weight=1,\n",
       "              missing=nan, monotone_constraints=&#x27;()&#x27;, n_estimators=100,\n",
       "              n_jobs=0, num_parallel_tree=1, objective=&#x27;multi:softprob&#x27;,\n",
       "              predictor=&#x27;auto&#x27;, random_state=0, reg_alpha=0, ...)</pre><b>In a Jupyter environment, please rerun this cell to show the HTML representation or trust the notebook. <br />On GitHub, the HTML representation is unable to render, please try loading this page with nbviewer.org.</b></div><div class=\"sk-container\" hidden><div class=\"sk-item\"><div class=\"sk-estimator sk-toggleable\"><input class=\"sk-toggleable__control sk-hidden--visually\" id=\"sk-estimator-id-1\" type=\"checkbox\" checked><label for=\"sk-estimator-id-1\" class=\"sk-toggleable__label sk-toggleable__label-arrow\">XGBClassifier</label><div class=\"sk-toggleable__content\"><pre>XGBClassifier(base_score=0.5, booster=&#x27;gbtree&#x27;, callbacks=None,\n",
       "              colsample_bylevel=1, colsample_bynode=1, colsample_bytree=1,\n",
       "              early_stopping_rounds=None, enable_categorical=False,\n",
       "              eval_metric=None, gamma=0, gpu_id=-1, grow_policy=&#x27;depthwise&#x27;,\n",
       "              importance_type=None, interaction_constraints=&#x27;&#x27;,\n",
       "              learning_rate=0.300000012, max_bin=256, max_cat_to_onehot=4,\n",
       "              max_delta_step=0, max_depth=6, max_leaves=0, min_child_weight=1,\n",
       "              missing=nan, monotone_constraints=&#x27;()&#x27;, n_estimators=100,\n",
       "              n_jobs=0, num_parallel_tree=1, objective=&#x27;multi:softprob&#x27;,\n",
       "              predictor=&#x27;auto&#x27;, random_state=0, reg_alpha=0, ...)</pre></div></div></div></div></div>"
      ],
      "text/plain": [
       "XGBClassifier(base_score=0.5, booster='gbtree', callbacks=None,\n",
       "              colsample_bylevel=1, colsample_bynode=1, colsample_bytree=1,\n",
       "              early_stopping_rounds=None, enable_categorical=False,\n",
       "              eval_metric=None, gamma=0, gpu_id=-1, grow_policy='depthwise',\n",
       "              importance_type=None, interaction_constraints='',\n",
       "              learning_rate=0.300000012, max_bin=256, max_cat_to_onehot=4,\n",
       "              max_delta_step=0, max_depth=6, max_leaves=0, min_child_weight=1,\n",
       "              missing=nan, monotone_constraints='()', n_estimators=100,\n",
       "              n_jobs=0, num_parallel_tree=1, objective='multi:softprob',\n",
       "              predictor='auto', random_state=0, reg_alpha=0, ...)"
      ]
     },
     "execution_count": 23,
     "metadata": {},
     "output_type": "execute_result"
    }
   ],
   "source": [
    "xgb.fit(X_Train, Y_Train)"
   ]
  },
  {
   "cell_type": "code",
   "execution_count": 25,
   "id": "5701ab74",
   "metadata": {},
   "outputs": [],
   "source": [
    "import pickle\n",
    "\n",
    "pickle.dump(xgb, open(\"model.pkl\", \"wb\"))"
   ]
  }
 ],
 "metadata": {
  "kernelspec": {
   "display_name": "Python 3.9.7 64-bit ('anaconda')",
   "language": "python",
   "name": "python3"
  },
  "language_info": {
   "codemirror_mode": {
    "name": "ipython",
    "version": 3
   },
   "file_extension": ".py",
   "mimetype": "text/x-python",
   "name": "python",
   "nbconvert_exporter": "python",
   "pygments_lexer": "ipython3",
   "version": "3.9.7"
  },
  "papermill": {
   "default_parameters": {},
   "duration": 856.954771,
   "end_time": "2022-11-06T21:41:01.680788",
   "environment_variables": {},
   "exception": null,
   "input_path": "__notebook__.ipynb",
   "output_path": "__notebook__.ipynb",
   "parameters": {},
   "start_time": "2022-11-06T21:26:44.726017",
   "version": "2.3.4"
  },
  "vscode": {
   "interpreter": {
    "hash": "5179d32cf6ec497baf3f8a3ef987cc77c5d2dc691fdde20a56316522f61a7323"
   }
  }
 },
 "nbformat": 4,
 "nbformat_minor": 5
}
