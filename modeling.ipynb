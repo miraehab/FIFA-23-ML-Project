{
 "cells": [
  {
   "cell_type": "markdown",
   "metadata": {},
   "source": [
    "<h1>FIFA 23 ML Project</h1>"
   ]
  },
  {
   "cell_type": "code",
   "execution_count": 15,
   "metadata": {},
   "outputs": [],
   "source": [
    "import pandas as pd \n",
    "import numpy as np\n",
    "import seaborn as sns\n",
    "import matplotlib.pyplot as plt"
   ]
  },
  {
   "cell_type": "code",
   "execution_count": 16,
   "metadata": {},
   "outputs": [
    {
     "data": {
      "text/html": [
       "<div>\n",
       "<style scoped>\n",
       "    .dataframe tbody tr th:only-of-type {\n",
       "        vertical-align: middle;\n",
       "    }\n",
       "\n",
       "    .dataframe tbody tr th {\n",
       "        vertical-align: top;\n",
       "    }\n",
       "\n",
       "    .dataframe thead th {\n",
       "        text-align: right;\n",
       "    }\n",
       "</style>\n",
       "<table border=\"1\" class=\"dataframe\">\n",
       "  <thead>\n",
       "    <tr style=\"text-align: right;\">\n",
       "      <th></th>\n",
       "      <th>Name</th>\n",
       "      <th>Age</th>\n",
       "      <th>Height</th>\n",
       "      <th>Weight</th>\n",
       "      <th>Overall</th>\n",
       "      <th>Potential</th>\n",
       "      <th>Growth</th>\n",
       "      <th>TotalStats</th>\n",
       "      <th>BaseStats</th>\n",
       "      <th>BestPosition</th>\n",
       "      <th>...</th>\n",
       "      <th>LMRating</th>\n",
       "      <th>CMRating</th>\n",
       "      <th>RMRating</th>\n",
       "      <th>LWBRating</th>\n",
       "      <th>CDMRating</th>\n",
       "      <th>RWBRating</th>\n",
       "      <th>LBRating</th>\n",
       "      <th>CBRating</th>\n",
       "      <th>RBRating</th>\n",
       "      <th>GKRating</th>\n",
       "    </tr>\n",
       "  </thead>\n",
       "  <tbody>\n",
       "    <tr>\n",
       "      <th>0</th>\n",
       "      <td>L. Messi</td>\n",
       "      <td>35</td>\n",
       "      <td>169</td>\n",
       "      <td>67</td>\n",
       "      <td>91</td>\n",
       "      <td>91</td>\n",
       "      <td>0</td>\n",
       "      <td>2190</td>\n",
       "      <td>452</td>\n",
       "      <td>0</td>\n",
       "      <td>...</td>\n",
       "      <td>91</td>\n",
       "      <td>88</td>\n",
       "      <td>91</td>\n",
       "      <td>67</td>\n",
       "      <td>66</td>\n",
       "      <td>67</td>\n",
       "      <td>62</td>\n",
       "      <td>53</td>\n",
       "      <td>62</td>\n",
       "      <td>22</td>\n",
       "    </tr>\n",
       "    <tr>\n",
       "      <th>1</th>\n",
       "      <td>K. Benzema</td>\n",
       "      <td>34</td>\n",
       "      <td>185</td>\n",
       "      <td>81</td>\n",
       "      <td>91</td>\n",
       "      <td>91</td>\n",
       "      <td>0</td>\n",
       "      <td>2147</td>\n",
       "      <td>455</td>\n",
       "      <td>1</td>\n",
       "      <td>...</td>\n",
       "      <td>89</td>\n",
       "      <td>84</td>\n",
       "      <td>89</td>\n",
       "      <td>67</td>\n",
       "      <td>67</td>\n",
       "      <td>67</td>\n",
       "      <td>63</td>\n",
       "      <td>58</td>\n",
       "      <td>63</td>\n",
       "      <td>21</td>\n",
       "    </tr>\n",
       "    <tr>\n",
       "      <th>2</th>\n",
       "      <td>R. Lewandowski</td>\n",
       "      <td>33</td>\n",
       "      <td>185</td>\n",
       "      <td>81</td>\n",
       "      <td>91</td>\n",
       "      <td>91</td>\n",
       "      <td>0</td>\n",
       "      <td>2205</td>\n",
       "      <td>458</td>\n",
       "      <td>2</td>\n",
       "      <td>...</td>\n",
       "      <td>86</td>\n",
       "      <td>83</td>\n",
       "      <td>86</td>\n",
       "      <td>67</td>\n",
       "      <td>69</td>\n",
       "      <td>67</td>\n",
       "      <td>64</td>\n",
       "      <td>63</td>\n",
       "      <td>64</td>\n",
       "      <td>22</td>\n",
       "    </tr>\n",
       "    <tr>\n",
       "      <th>3</th>\n",
       "      <td>K. De Bruyne</td>\n",
       "      <td>31</td>\n",
       "      <td>181</td>\n",
       "      <td>70</td>\n",
       "      <td>91</td>\n",
       "      <td>91</td>\n",
       "      <td>0</td>\n",
       "      <td>2303</td>\n",
       "      <td>483</td>\n",
       "      <td>3</td>\n",
       "      <td>...</td>\n",
       "      <td>91</td>\n",
       "      <td>91</td>\n",
       "      <td>91</td>\n",
       "      <td>82</td>\n",
       "      <td>82</td>\n",
       "      <td>82</td>\n",
       "      <td>78</td>\n",
       "      <td>72</td>\n",
       "      <td>78</td>\n",
       "      <td>24</td>\n",
       "    </tr>\n",
       "    <tr>\n",
       "      <th>4</th>\n",
       "      <td>K. Mbappé</td>\n",
       "      <td>23</td>\n",
       "      <td>182</td>\n",
       "      <td>73</td>\n",
       "      <td>91</td>\n",
       "      <td>95</td>\n",
       "      <td>4</td>\n",
       "      <td>2177</td>\n",
       "      <td>470</td>\n",
       "      <td>2</td>\n",
       "      <td>...</td>\n",
       "      <td>92</td>\n",
       "      <td>84</td>\n",
       "      <td>92</td>\n",
       "      <td>70</td>\n",
       "      <td>66</td>\n",
       "      <td>70</td>\n",
       "      <td>66</td>\n",
       "      <td>57</td>\n",
       "      <td>66</td>\n",
       "      <td>21</td>\n",
       "    </tr>\n",
       "  </tbody>\n",
       "</table>\n",
       "<p>5 rows × 80 columns</p>\n",
       "</div>"
      ],
      "text/plain": [
       "             Name  Age  Height  Weight  Overall  Potential  Growth  \\\n",
       "0        L. Messi   35     169      67       91         91       0   \n",
       "1      K. Benzema   34     185      81       91         91       0   \n",
       "2  R. Lewandowski   33     185      81       91         91       0   \n",
       "3    K. De Bruyne   31     181      70       91         91       0   \n",
       "4       K. Mbappé   23     182      73       91         95       4   \n",
       "\n",
       "   TotalStats  BaseStats  BestPosition  ...  LMRating  CMRating  RMRating  \\\n",
       "0        2190        452             0  ...        91        88        91   \n",
       "1        2147        455             1  ...        89        84        89   \n",
       "2        2205        458             2  ...        86        83        86   \n",
       "3        2303        483             3  ...        91        91        91   \n",
       "4        2177        470             2  ...        92        84        92   \n",
       "\n",
       "   LWBRating  CDMRating  RWBRating  LBRating  CBRating  RBRating  GKRating  \n",
       "0         67         66         67        62        53        62        22  \n",
       "1         67         67         67        63        58        63        21  \n",
       "2         67         69         67        64        63        64        22  \n",
       "3         82         82         82        78        72        78        24  \n",
       "4         70         66         70        66        57        66        21  \n",
       "\n",
       "[5 rows x 80 columns]"
      ]
     },
     "execution_count": 16,
     "metadata": {},
     "output_type": "execute_result"
    }
   ],
   "source": [
    "data = pd.read_csv(\"./players_fifa23_cleaned.csv\")\n",
    "data.head()"
   ]
  },
  {
   "cell_type": "code",
   "execution_count": 17,
   "metadata": {},
   "outputs": [],
   "source": [
    "X = data.drop([\"Name\", \"BestPosition\"], axis = 1)\n",
    "Y = data[\"BestPosition\"]"
   ]
  },
  {
   "cell_type": "markdown",
   "metadata": {},
   "source": [
    "<h3>Feature Scaling:</h3>"
   ]
  },
  {
   "cell_type": "code",
   "execution_count": 18,
   "metadata": {},
   "outputs": [],
   "source": [
    "from sklearn.preprocessing import MinMaxScaler\n",
    "\n",
    "mms = MinMaxScaler()\n",
    "\n",
    "X = mms.fit_transform(X)"
   ]
  },
  {
   "cell_type": "markdown",
   "metadata": {},
   "source": [
    "<h3>Perform Dimentionality Reduction:</h3>"
   ]
  },
  {
   "cell_type": "code",
   "execution_count": 19,
   "metadata": {},
   "outputs": [],
   "source": [
    "from sklearn.decomposition import PCA\n",
    "pca = PCA(n_components = 45) \n",
    "X = pd.DataFrame(pca.fit_transform(X))"
   ]
  },
  {
   "cell_type": "markdown",
   "metadata": {},
   "source": [
    "<h3>Split the Data to Train and Test sets:</h3>"
   ]
  },
  {
   "cell_type": "code",
   "execution_count": 20,
   "metadata": {},
   "outputs": [],
   "source": [
    "from sklearn.model_selection import train_test_split\n",
    "X_Train, X_Test, Y_Train, Y_Test = train_test_split(X, Y, test_size=0.20, random_state=42)"
   ]
  },
  {
   "cell_type": "markdown",
   "metadata": {},
   "source": [
    "<h2>Modeling: </h2>"
   ]
  },
  {
   "cell_type": "markdown",
   "metadata": {},
   "source": [
    "<h3>1. Logistic Regression: </h3>"
   ]
  },
  {
   "cell_type": "code",
   "execution_count": 21,
   "metadata": {},
   "outputs": [],
   "source": [
    "from sklearn.linear_model import LogisticRegression\n",
    "lr = LogisticRegression()"
   ]
  },
  {
   "cell_type": "code",
   "execution_count": 22,
   "metadata": {},
   "outputs": [
    {
     "name": "stderr",
     "output_type": "stream",
     "text": [
      "d:\\anaconda\\lib\\site-packages\\sklearn\\linear_model\\_logistic.py:444: ConvergenceWarning: lbfgs failed to converge (status=1):\n",
      "STOP: TOTAL NO. of ITERATIONS REACHED LIMIT.\n",
      "\n",
      "Increase the number of iterations (max_iter) or scale the data as shown in:\n",
      "    https://scikit-learn.org/stable/modules/preprocessing.html\n",
      "Please also refer to the documentation for alternative solver options:\n",
      "    https://scikit-learn.org/stable/modules/linear_model.html#logistic-regression\n",
      "  n_iter_i = _check_optimize_result(\n"
     ]
    },
    {
     "data": {
      "text/html": [
       "<style>#sk-container-id-2 {color: black;background-color: white;}#sk-container-id-2 pre{padding: 0;}#sk-container-id-2 div.sk-toggleable {background-color: white;}#sk-container-id-2 label.sk-toggleable__label {cursor: pointer;display: block;width: 100%;margin-bottom: 0;padding: 0.3em;box-sizing: border-box;text-align: center;}#sk-container-id-2 label.sk-toggleable__label-arrow:before {content: \"▸\";float: left;margin-right: 0.25em;color: #696969;}#sk-container-id-2 label.sk-toggleable__label-arrow:hover:before {color: black;}#sk-container-id-2 div.sk-estimator:hover label.sk-toggleable__label-arrow:before {color: black;}#sk-container-id-2 div.sk-toggleable__content {max-height: 0;max-width: 0;overflow: hidden;text-align: left;background-color: #f0f8ff;}#sk-container-id-2 div.sk-toggleable__content pre {margin: 0.2em;color: black;border-radius: 0.25em;background-color: #f0f8ff;}#sk-container-id-2 input.sk-toggleable__control:checked~div.sk-toggleable__content {max-height: 200px;max-width: 100%;overflow: auto;}#sk-container-id-2 input.sk-toggleable__control:checked~label.sk-toggleable__label-arrow:before {content: \"▾\";}#sk-container-id-2 div.sk-estimator input.sk-toggleable__control:checked~label.sk-toggleable__label {background-color: #d4ebff;}#sk-container-id-2 div.sk-label input.sk-toggleable__control:checked~label.sk-toggleable__label {background-color: #d4ebff;}#sk-container-id-2 input.sk-hidden--visually {border: 0;clip: rect(1px 1px 1px 1px);clip: rect(1px, 1px, 1px, 1px);height: 1px;margin: -1px;overflow: hidden;padding: 0;position: absolute;width: 1px;}#sk-container-id-2 div.sk-estimator {font-family: monospace;background-color: #f0f8ff;border: 1px dotted black;border-radius: 0.25em;box-sizing: border-box;margin-bottom: 0.5em;}#sk-container-id-2 div.sk-estimator:hover {background-color: #d4ebff;}#sk-container-id-2 div.sk-parallel-item::after {content: \"\";width: 100%;border-bottom: 1px solid gray;flex-grow: 1;}#sk-container-id-2 div.sk-label:hover label.sk-toggleable__label {background-color: #d4ebff;}#sk-container-id-2 div.sk-serial::before {content: \"\";position: absolute;border-left: 1px solid gray;box-sizing: border-box;top: 0;bottom: 0;left: 50%;z-index: 0;}#sk-container-id-2 div.sk-serial {display: flex;flex-direction: column;align-items: center;background-color: white;padding-right: 0.2em;padding-left: 0.2em;position: relative;}#sk-container-id-2 div.sk-item {position: relative;z-index: 1;}#sk-container-id-2 div.sk-parallel {display: flex;align-items: stretch;justify-content: center;background-color: white;position: relative;}#sk-container-id-2 div.sk-item::before, #sk-container-id-2 div.sk-parallel-item::before {content: \"\";position: absolute;border-left: 1px solid gray;box-sizing: border-box;top: 0;bottom: 0;left: 50%;z-index: -1;}#sk-container-id-2 div.sk-parallel-item {display: flex;flex-direction: column;z-index: 1;position: relative;background-color: white;}#sk-container-id-2 div.sk-parallel-item:first-child::after {align-self: flex-end;width: 50%;}#sk-container-id-2 div.sk-parallel-item:last-child::after {align-self: flex-start;width: 50%;}#sk-container-id-2 div.sk-parallel-item:only-child::after {width: 0;}#sk-container-id-2 div.sk-dashed-wrapped {border: 1px dashed gray;margin: 0 0.4em 0.5em 0.4em;box-sizing: border-box;padding-bottom: 0.4em;background-color: white;}#sk-container-id-2 div.sk-label label {font-family: monospace;font-weight: bold;display: inline-block;line-height: 1.2em;}#sk-container-id-2 div.sk-label-container {text-align: center;}#sk-container-id-2 div.sk-container {/* jupyter's `normalize.less` sets `[hidden] { display: none; }` but bootstrap.min.css set `[hidden] { display: none !important; }` so we also need the `!important` here to be able to override the default hidden behavior on the sphinx rendered scikit-learn.org. See: https://github.com/scikit-learn/scikit-learn/issues/21755 */display: inline-block !important;position: relative;}#sk-container-id-2 div.sk-text-repr-fallback {display: none;}</style><div id=\"sk-container-id-2\" class=\"sk-top-container\"><div class=\"sk-text-repr-fallback\"><pre>LogisticRegression()</pre><b>In a Jupyter environment, please rerun this cell to show the HTML representation or trust the notebook. <br />On GitHub, the HTML representation is unable to render, please try loading this page with nbviewer.org.</b></div><div class=\"sk-container\" hidden><div class=\"sk-item\"><div class=\"sk-estimator sk-toggleable\"><input class=\"sk-toggleable__control sk-hidden--visually\" id=\"sk-estimator-id-2\" type=\"checkbox\" checked><label for=\"sk-estimator-id-2\" class=\"sk-toggleable__label sk-toggleable__label-arrow\">LogisticRegression</label><div class=\"sk-toggleable__content\"><pre>LogisticRegression()</pre></div></div></div></div></div>"
      ],
      "text/plain": [
       "LogisticRegression()"
      ]
     },
     "execution_count": 22,
     "metadata": {},
     "output_type": "execute_result"
    }
   ],
   "source": [
    "lr.fit(X_Train , Y_Train)"
   ]
  },
  {
   "cell_type": "code",
   "execution_count": 23,
   "metadata": {},
   "outputs": [
    {
     "data": {
      "text/plain": [
       "0.8171715118248967"
      ]
     },
     "execution_count": 23,
     "metadata": {},
     "output_type": "execute_result"
    }
   ],
   "source": [
    "lr.score(X_Train, Y_Train)"
   ]
  },
  {
   "cell_type": "code",
   "execution_count": 24,
   "metadata": {},
   "outputs": [
    {
     "data": {
      "text/plain": [
       "0.8097560975609757"
      ]
     },
     "execution_count": 24,
     "metadata": {},
     "output_type": "execute_result"
    }
   ],
   "source": [
    "lr.score(X_Test, Y_Test)"
   ]
  },
  {
   "cell_type": "code",
   "execution_count": 25,
   "metadata": {},
   "outputs": [],
   "source": [
    "Y_Pred = lr.predict(X_Test)"
   ]
  },
  {
   "cell_type": "code",
   "execution_count": 26,
   "metadata": {},
   "outputs": [],
   "source": [
    "from sklearn.metrics import confusion_matrix, accuracy_score, classification_report\n",
    "# Function to check the classification report\n",
    "def classification_report_fun(model_name, actual, predicted):\n",
    "    print(f'The Classification Report for {model_name} Classifier:')\n",
    "    print(classification_report(actual, predicted))"
   ]
  },
  {
   "cell_type": "code",
   "execution_count": 27,
   "metadata": {},
   "outputs": [
    {
     "data": {
      "text/plain": [
       "80.97560975609757"
      ]
     },
     "execution_count": 27,
     "metadata": {},
     "output_type": "execute_result"
    }
   ],
   "source": [
    "accuracy_score(Y_Test, Y_Pred)*100"
   ]
  },
  {
   "cell_type": "code",
   "execution_count": 28,
   "metadata": {},
   "outputs": [
    {
     "name": "stdout",
     "output_type": "stream",
     "text": [
      "The Classification Report for Logistic Regression Classifier:\n",
      "              precision    recall  f1-score   support\n",
      "\n",
      "           0       0.72      0.84      0.78       435\n",
      "           1       0.00      0.00      0.00        16\n",
      "           2       0.92      0.95      0.93       506\n",
      "           3       0.73      0.73      0.73       214\n",
      "           4       0.41      0.13      0.19        55\n",
      "           5       1.00      1.00      1.00       391\n",
      "           6       0.93      0.96      0.94       711\n",
      "           7       0.50      0.02      0.04        48\n",
      "           8       0.83      0.82      0.82       313\n",
      "           9       0.64      0.49      0.55       168\n",
      "          10       0.67      0.79      0.72       178\n",
      "          11       0.68      0.77      0.72       313\n",
      "          12       0.68      0.80      0.73       197\n",
      "          13       0.44      0.22      0.29        68\n",
      "          14       0.48      0.18      0.26        77\n",
      "\n",
      "    accuracy                           0.81      3690\n",
      "   macro avg       0.64      0.58      0.58      3690\n",
      "weighted avg       0.79      0.81      0.79      3690\n",
      "\n"
     ]
    }
   ],
   "source": [
    "classification_report_fun('Logistic Regression', Y_Test, Y_Pred)"
   ]
  }
 ],
 "metadata": {
  "kernelspec": {
   "display_name": "Python 3.9.7 64-bit ('anaconda')",
   "language": "python",
   "name": "python3"
  },
  "language_info": {
   "codemirror_mode": {
    "name": "ipython",
    "version": 3
   },
   "file_extension": ".py",
   "mimetype": "text/x-python",
   "name": "python",
   "nbconvert_exporter": "python",
   "pygments_lexer": "ipython3",
   "version": "3.9.7"
  },
  "orig_nbformat": 4,
  "vscode": {
   "interpreter": {
    "hash": "5179d32cf6ec497baf3f8a3ef987cc77c5d2dc691fdde20a56316522f61a7323"
   }
  }
 },
 "nbformat": 4,
 "nbformat_minor": 2
}
