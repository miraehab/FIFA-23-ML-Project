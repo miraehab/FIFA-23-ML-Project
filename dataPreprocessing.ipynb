{
 "cells": [
  {
   "cell_type": "markdown",
   "metadata": {},
   "source": [
    "<h1>FIFA 23 ML Project</h1>"
   ]
  },
  {
   "cell_type": "code",
   "execution_count": 77,
   "metadata": {},
   "outputs": [],
   "source": [
    "import pandas as pd \n",
    "import numpy as np\n",
    "import seaborn as sns\n",
    "import matplotlib.pyplot as plt"
   ]
  },
  {
   "cell_type": "markdown",
   "metadata": {},
   "source": [
    "<h2>Data Preprocessing:</h2>"
   ]
  },
  {
   "cell_type": "code",
   "execution_count": 78,
   "metadata": {},
   "outputs": [
    {
     "data": {
      "text/html": [
       "<div>\n",
       "<style scoped>\n",
       "    .dataframe tbody tr th:only-of-type {\n",
       "        vertical-align: middle;\n",
       "    }\n",
       "\n",
       "    .dataframe tbody tr th {\n",
       "        vertical-align: top;\n",
       "    }\n",
       "\n",
       "    .dataframe thead th {\n",
       "        text-align: right;\n",
       "    }\n",
       "</style>\n",
       "<table border=\"1\" class=\"dataframe\">\n",
       "  <thead>\n",
       "    <tr style=\"text-align: right;\">\n",
       "      <th></th>\n",
       "      <th>ID</th>\n",
       "      <th>Name</th>\n",
       "      <th>FullName</th>\n",
       "      <th>Age</th>\n",
       "      <th>Height</th>\n",
       "      <th>Weight</th>\n",
       "      <th>PhotoUrl</th>\n",
       "      <th>Nationality</th>\n",
       "      <th>Overall</th>\n",
       "      <th>Potential</th>\n",
       "      <th>...</th>\n",
       "      <th>LMRating</th>\n",
       "      <th>CMRating</th>\n",
       "      <th>RMRating</th>\n",
       "      <th>LWBRating</th>\n",
       "      <th>CDMRating</th>\n",
       "      <th>RWBRating</th>\n",
       "      <th>LBRating</th>\n",
       "      <th>CBRating</th>\n",
       "      <th>RBRating</th>\n",
       "      <th>GKRating</th>\n",
       "    </tr>\n",
       "  </thead>\n",
       "  <tbody>\n",
       "    <tr>\n",
       "      <th>0</th>\n",
       "      <td>158023</td>\n",
       "      <td>L. Messi</td>\n",
       "      <td>Lionel Messi</td>\n",
       "      <td>35</td>\n",
       "      <td>169</td>\n",
       "      <td>67</td>\n",
       "      <td>https://cdn.sofifa.net/players/158/023/23_60.png</td>\n",
       "      <td>Argentina</td>\n",
       "      <td>91</td>\n",
       "      <td>91</td>\n",
       "      <td>...</td>\n",
       "      <td>91</td>\n",
       "      <td>88</td>\n",
       "      <td>91</td>\n",
       "      <td>67</td>\n",
       "      <td>66</td>\n",
       "      <td>67</td>\n",
       "      <td>62</td>\n",
       "      <td>53</td>\n",
       "      <td>62</td>\n",
       "      <td>22</td>\n",
       "    </tr>\n",
       "    <tr>\n",
       "      <th>1</th>\n",
       "      <td>165153</td>\n",
       "      <td>K. Benzema</td>\n",
       "      <td>Karim Benzema</td>\n",
       "      <td>34</td>\n",
       "      <td>185</td>\n",
       "      <td>81</td>\n",
       "      <td>https://cdn.sofifa.net/players/165/153/23_60.png</td>\n",
       "      <td>France</td>\n",
       "      <td>91</td>\n",
       "      <td>91</td>\n",
       "      <td>...</td>\n",
       "      <td>89</td>\n",
       "      <td>84</td>\n",
       "      <td>89</td>\n",
       "      <td>67</td>\n",
       "      <td>67</td>\n",
       "      <td>67</td>\n",
       "      <td>63</td>\n",
       "      <td>58</td>\n",
       "      <td>63</td>\n",
       "      <td>21</td>\n",
       "    </tr>\n",
       "    <tr>\n",
       "      <th>2</th>\n",
       "      <td>188545</td>\n",
       "      <td>R. Lewandowski</td>\n",
       "      <td>Robert Lewandowski</td>\n",
       "      <td>33</td>\n",
       "      <td>185</td>\n",
       "      <td>81</td>\n",
       "      <td>https://cdn.sofifa.net/players/188/545/23_60.png</td>\n",
       "      <td>Poland</td>\n",
       "      <td>91</td>\n",
       "      <td>91</td>\n",
       "      <td>...</td>\n",
       "      <td>86</td>\n",
       "      <td>83</td>\n",
       "      <td>86</td>\n",
       "      <td>67</td>\n",
       "      <td>69</td>\n",
       "      <td>67</td>\n",
       "      <td>64</td>\n",
       "      <td>63</td>\n",
       "      <td>64</td>\n",
       "      <td>22</td>\n",
       "    </tr>\n",
       "    <tr>\n",
       "      <th>3</th>\n",
       "      <td>192985</td>\n",
       "      <td>K. De Bruyne</td>\n",
       "      <td>Kevin De Bruyne</td>\n",
       "      <td>31</td>\n",
       "      <td>181</td>\n",
       "      <td>70</td>\n",
       "      <td>https://cdn.sofifa.net/players/192/985/23_60.png</td>\n",
       "      <td>Belgium</td>\n",
       "      <td>91</td>\n",
       "      <td>91</td>\n",
       "      <td>...</td>\n",
       "      <td>91</td>\n",
       "      <td>91</td>\n",
       "      <td>91</td>\n",
       "      <td>82</td>\n",
       "      <td>82</td>\n",
       "      <td>82</td>\n",
       "      <td>78</td>\n",
       "      <td>72</td>\n",
       "      <td>78</td>\n",
       "      <td>24</td>\n",
       "    </tr>\n",
       "    <tr>\n",
       "      <th>4</th>\n",
       "      <td>231747</td>\n",
       "      <td>K. Mbappé</td>\n",
       "      <td>Kylian Mbappé</td>\n",
       "      <td>23</td>\n",
       "      <td>182</td>\n",
       "      <td>73</td>\n",
       "      <td>https://cdn.sofifa.net/players/231/747/23_60.png</td>\n",
       "      <td>France</td>\n",
       "      <td>91</td>\n",
       "      <td>95</td>\n",
       "      <td>...</td>\n",
       "      <td>92</td>\n",
       "      <td>84</td>\n",
       "      <td>92</td>\n",
       "      <td>70</td>\n",
       "      <td>66</td>\n",
       "      <td>70</td>\n",
       "      <td>66</td>\n",
       "      <td>57</td>\n",
       "      <td>66</td>\n",
       "      <td>21</td>\n",
       "    </tr>\n",
       "  </tbody>\n",
       "</table>\n",
       "<p>5 rows × 90 columns</p>\n",
       "</div>"
      ],
      "text/plain": [
       "       ID            Name            FullName  Age  Height  Weight  \\\n",
       "0  158023        L. Messi        Lionel Messi   35     169      67   \n",
       "1  165153      K. Benzema       Karim Benzema   34     185      81   \n",
       "2  188545  R. Lewandowski  Robert Lewandowski   33     185      81   \n",
       "3  192985    K. De Bruyne     Kevin De Bruyne   31     181      70   \n",
       "4  231747       K. Mbappé       Kylian Mbappé   23     182      73   \n",
       "\n",
       "                                           PhotoUrl Nationality  Overall  \\\n",
       "0  https://cdn.sofifa.net/players/158/023/23_60.png   Argentina       91   \n",
       "1  https://cdn.sofifa.net/players/165/153/23_60.png      France       91   \n",
       "2  https://cdn.sofifa.net/players/188/545/23_60.png      Poland       91   \n",
       "3  https://cdn.sofifa.net/players/192/985/23_60.png     Belgium       91   \n",
       "4  https://cdn.sofifa.net/players/231/747/23_60.png      France       91   \n",
       "\n",
       "   Potential  ...  LMRating  CMRating  RMRating LWBRating CDMRating RWBRating  \\\n",
       "0         91  ...        91        88        91        67        66        67   \n",
       "1         91  ...        89        84        89        67        67        67   \n",
       "2         91  ...        86        83        86        67        69        67   \n",
       "3         91  ...        91        91        91        82        82        82   \n",
       "4         95  ...        92        84        92        70        66        70   \n",
       "\n",
       "   LBRating  CBRating  RBRating GKRating  \n",
       "0        62        53        62       22  \n",
       "1        63        58        63       21  \n",
       "2        64        63        64       22  \n",
       "3        78        72        78       24  \n",
       "4        66        57        66       21  \n",
       "\n",
       "[5 rows x 90 columns]"
      ]
     },
     "execution_count": 78,
     "metadata": {},
     "output_type": "execute_result"
    }
   ],
   "source": [
    "data = pd.read_csv(\"./players_fifa23.csv\")\n",
    "data.head()"
   ]
  },
  {
   "cell_type": "code",
   "execution_count": 79,
   "metadata": {},
   "outputs": [
    {
     "data": {
      "text/plain": [
       "(18539, 90)"
      ]
     },
     "execution_count": 79,
     "metadata": {},
     "output_type": "execute_result"
    }
   ],
   "source": [
    "data.shape"
   ]
  },
  {
   "cell_type": "code",
   "execution_count": 80,
   "metadata": {},
   "outputs": [],
   "source": [
    "needed_columns = ['Name', 'Age', 'Height', 'Weight',\n",
    "       'Overall', 'Potential', 'Growth', 'TotalStats',\n",
    "       'BaseStats', 'BestPosition', 'Club', 'ValueEUR', 'WageEUR',\n",
    "       'ReleaseClause', 'ContractUntil', 'ClubJoined', 'OnLoad',\n",
    "       'PreferredFoot', 'IntReputation', 'WeakFoot',\n",
    "       'SkillMoves', 'AttackingWorkRate', 'DefensiveWorkRate', 'PaceTotal',\n",
    "       'ShootingTotal', 'PassingTotal', 'DribblingTotal', 'DefendingTotal',\n",
    "       'PhysicalityTotal', 'Crossing', 'Finishing', 'HeadingAccuracy',\n",
    "       'ShortPassing', 'Volleys', 'Dribbling', 'Curve', 'FKAccuracy',\n",
    "       'LongPassing', 'BallControl', 'Acceleration', 'SprintSpeed', 'Agility',\n",
    "       'Reactions', 'Balance', 'ShotPower', 'Jumping', 'Stamina', 'Strength',\n",
    "       'LongShots', 'Aggression', 'Interceptions', 'Positioning', 'Vision',\n",
    "       'Penalties', 'Composure', 'Marking', 'StandingTackle', 'SlidingTackle',\n",
    "       'GKDiving', 'GKHandling', 'GKKicking', 'GKPositioning', 'GKReflexes',\n",
    "       'STRating', 'LWRating', 'LFRating', 'CFRating', 'RFRating', 'RWRating',\n",
    "       'CAMRating', 'LMRating', 'CMRating', 'RMRating', 'LWBRating',\n",
    "       'CDMRating', 'RWBRating', 'LBRating', 'CBRating', 'RBRating',\n",
    "       'GKRating']\n",
    "\n",
    "data = data[needed_columns]"
   ]
  },
  {
   "cell_type": "markdown",
   "metadata": {},
   "source": [
    "<h3>Handle the missing values:</h3>"
   ]
  },
  {
   "cell_type": "code",
   "execution_count": 81,
   "metadata": {},
   "outputs": [
    {
     "name": "stdout",
     "output_type": "stream",
     "text": [
      "ContractUntil   92\n"
     ]
    }
   ],
   "source": [
    "for i in data.columns:\n",
    "    if data[i].isnull().sum() > 0:\n",
    "        print(i, \" \", data[i].isnull().sum())"
   ]
  },
  {
   "cell_type": "markdown",
   "metadata": {},
   "source": [
    "<h4>ContractUntil Column:</h4>"
   ]
  },
  {
   "cell_type": "code",
   "execution_count": 82,
   "metadata": {},
   "outputs": [
    {
     "name": "stdout",
     "output_type": "stream",
     "text": [
      "The percentage of the null values is:  0.49625114623226707 %\n"
     ]
    }
   ],
   "source": [
    "print(\"The percentage of the null values is: \", (data[\"ContractUntil\"].isnull().sum()/data.shape[0])*100, \"%\")"
   ]
  },
  {
   "cell_type": "markdown",
   "metadata": {},
   "source": [
    "As the percentage of nulls is small so we can drop the values of nulls in that column."
   ]
  },
  {
   "cell_type": "code",
   "execution_count": 83,
   "metadata": {},
   "outputs": [],
   "source": [
    "data.drop(data[data[\"ContractUntil\"].isnull()].index, axis = 0, inplace =True)"
   ]
  },
  {
   "cell_type": "code",
   "execution_count": 84,
   "metadata": {},
   "outputs": [
    {
     "data": {
      "text/plain": [
       "0"
      ]
     },
     "execution_count": 84,
     "metadata": {},
     "output_type": "execute_result"
    }
   ],
   "source": [
    "data[\"ContractUntil\"].isnull().sum()"
   ]
  },
  {
   "cell_type": "markdown",
   "metadata": {},
   "source": [
    "<h3>Handle The Categorical Columns:</h3>"
   ]
  },
  {
   "cell_type": "code",
   "execution_count": 85,
   "metadata": {},
   "outputs": [
    {
     "name": "stdout",
     "output_type": "stream",
     "text": [
      "Name\n",
      "BestPosition\n",
      "Club\n",
      "PreferredFoot\n",
      "AttackingWorkRate\n",
      "DefensiveWorkRate\n"
     ]
    }
   ],
   "source": [
    "for i in data.columns:\n",
    "    if data[i].dtype == 'object':\n",
    "        print(i)"
   ]
  },
  {
   "cell_type": "code",
   "execution_count": 86,
   "metadata": {},
   "outputs": [],
   "source": [
    "from sklearn.preprocessing import LabelEncoder\n",
    "\n",
    "le = LabelEncoder()\n",
    "\n",
    "data[\"PreferredFoot\"] = le.fit_transform(data[\"PreferredFoot\"])\n",
    "data[\"AttackingWorkRate\"] = le.fit_transform(data[\"AttackingWorkRate\"])\n",
    "data[\"DefensiveWorkRate\"] = le.fit_transform(data[\"DefensiveWorkRate\"])\n",
    "\n",
    "#The club can affect the Wage of the Player\n",
    "data[\"Club\"] = le.fit_transform(data[\"Club\"])\n"
   ]
  },
  {
   "cell_type": "code",
   "execution_count": 87,
   "metadata": {},
   "outputs": [],
   "source": [
    "mapping = {'CAM': 0, 'CF': 1, 'ST': 2, 'CM': 3, 'RW': 4, 'GK': 5, 'CB': 6, 'LW': 7, 'CDM': 8, 'LM': 9, 'LB': 10,\n",
    "            'RM': 11, 'RB': 12, 'LWB': 13, 'RWB': 14}\n",
    "\n",
    "data = data.replace({'BestPosition': mapping})"
   ]
  },
  {
   "cell_type": "code",
   "execution_count": 88,
   "metadata": {},
   "outputs": [],
   "source": [
    "data = pd.DataFrame(data)\n",
    "\n",
    "data.to_csv(\"players_fifa23_cleaned.csv\", index=False)"
   ]
  }
 ],
 "metadata": {
  "kernelspec": {
   "display_name": "Python 3.9.7 64-bit ('anaconda')",
   "language": "python",
   "name": "python3"
  },
  "language_info": {
   "codemirror_mode": {
    "name": "ipython",
    "version": 3
   },
   "file_extension": ".py",
   "mimetype": "text/x-python",
   "name": "python",
   "nbconvert_exporter": "python",
   "pygments_lexer": "ipython3",
   "version": "3.9.7"
  },
  "orig_nbformat": 4,
  "vscode": {
   "interpreter": {
    "hash": "5179d32cf6ec497baf3f8a3ef987cc77c5d2dc691fdde20a56316522f61a7323"
   }
  }
 },
 "nbformat": 4,
 "nbformat_minor": 2
}
